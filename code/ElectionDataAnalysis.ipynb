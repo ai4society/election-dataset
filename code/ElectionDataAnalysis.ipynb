{
  "nbformat": 4,
  "nbformat_minor": 0,
  "metadata": {
    "colab": {
      "provenance": []
    },
    "kernelspec": {
      "name": "python3",
      "display_name": "Python 3"
    },
    "language_info": {
      "name": "python"
    }
  },
  "cells": [
    {
      "cell_type": "code",
      "source": [
        "import pandas as pd"
      ],
      "metadata": {
        "id": "K7nwi7EFy9yN"
      },
      "execution_count": null,
      "outputs": []
    },
    {
      "cell_type": "code",
      "execution_count": null,
      "metadata": {
        "id": "JzOH02pwyziW"
      },
      "outputs": [],
      "source": [
        "def extract_questions(dataframe, category_column, info_column, category_name):\n",
        "    # 'dataframe' is the dataset.\n",
        "    # 'category_column' can be either 'Question Category - stakeholder' or 'Question sub-category'.\n",
        "    # 'info_column' denotes the column from which you want to extract the information: It can be either 'Question - general'\n",
        "    # 'Question - general', 'Parameters' and so on.\n",
        "    # 'category_name' is the name of the category (under 'category_columns') from\n",
        "    #  which you want to extract the information.\n",
        "\n",
        "    start_index = dataframe[dataframe[category_column] == category_name].index[0]\n",
        "\n",
        "    next_category_index = dataframe[dataframe[category_column].notna() & (dataframe.index > start_index)].index.min()\n",
        "\n",
        "    if pd.isna(next_category_index):\n",
        "        category_data = dataframe.iloc[start_index:]\n",
        "    else:\n",
        "        category_data = dataframe.iloc[start_index:next_category_index]\n",
        "\n",
        "    questions = category_data[info_column].dropna().tolist()\n",
        "    return questions\n"
      ]
    },
    {
      "cell_type": "code",
      "source": [
        "# Import dataset\n",
        "data = pd.read_csv('/content/drive/MyDrive/Colab Notebooks/ElectionDataExploration/Elections_FAQs_AAAI2024 - Common.csv')\n",
        "# Choose the category from which you want to extract the information.\n",
        "voter_questions = extract_questions(data, 'Question sub-category', 'Question - general', 'Voter-what (1.1)')\n",
        "voter_questions\n"
      ],
      "metadata": {
        "colab": {
          "base_uri": "https://localhost:8080/"
        },
        "id": "Vco9Bbzuzuq8",
        "outputId": "b0642986-5d82-47f3-d05c-6afb2998b198"
      },
      "execution_count": null,
      "outputs": [
        {
          "output_type": "execute_result",
          "data": {
            "text/plain": [
              "['Why does election matter (in <region>)?',\n",
              " 'How much are election workers paid (in a <region>)?',\n",
              " 'Who will win the elections in <region> in <year>?',\n",
              " 'Are elections democratic in <region>?',\n",
              " 'Does election in <region> involve betting?',\n",
              " 'Can election in <region> be hacked?',\n",
              " 'Is there a holiday for election (in <region>)? ',\n",
              " 'What happens if I cannot come to the polling station (in <region>) ?',\n",
              " 'In <region>, how many seats are each of the main parties contesting?',\n",
              " 'What counts as a \"fair\" election?',\n",
              " 'What are the most populated (in terms of number of voters) and least populated seats being contested in the general elections (in <region>)?',\n",
              " 'Why have other countries discontinued their internet voting projects?',\n",
              " 'Is it safe to vote over the internet (in <region>)?',\n",
              " \"Why don't other countries use voting over the internet at national elections?\",\n",
              " 'Can permanent residents in <region> vote in elections?',\n",
              " 'I have registered to vote in <region>, but I do not want to vote. Will anything happen to me if I do not vote?',\n",
              " 'Are more people expected to vote by mail in <year> in <region>? ',\n",
              " 'I feel apathetic about the different party platforms and am not sure if I’m going to vote. What should I do?',\n",
              " 'Is it that big of a deal, historically or otherwise, not to have the results of the election on Election Day?',\n",
              " \"Should we put a first-class stamp on our ballot if we don't drop it into a vote box?\",\n",
              " 'What about adding drive-thru voting so people can feel safe remaining in their vehicles?',\n",
              " 'What kind of access do <foreign country> people have to the election system? Can they manipulate vote totals or voter lists?',\n",
              " 'Is it better to vote by mail or vote in person?',\n",
              " 'Will we know the winner on election night?',\n",
              " 'Why do so few people vote in <region> elections?',\n",
              " 'I received my <region> ballot and at the end it says I have to have a witness sign. Is this true? Do you have to have a witness in everywhere or just in <region>?',\n",
              " 'What measures are being taken to stop <candidate> from rigging the election?',\n",
              " 'What happens if my voting location closes due to a Covid surge?',\n",
              " 'Will <news organization> project states on election night like they do every year? Will there be too many mail-in ballots cast that the number of in-person votes cast just won’t be enough to project a winner?',\n",
              " 'In <region>, can I send my mail-in ballot by <mail service>, and can I put the ballots of my other family members in the same <mail service> envelope?']"
            ]
          },
          "metadata": {},
          "execution_count": 13
        }
      ]
    }
  ]
}